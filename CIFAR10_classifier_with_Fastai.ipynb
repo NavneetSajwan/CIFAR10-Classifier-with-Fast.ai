{
  "nbformat": 4,
  "nbformat_minor": 0,
  "metadata": {
    "colab": {
      "name": "CIFAR10 classifier with Fastai.ipynb",
      "provenance": [],
      "collapsed_sections": [],
      "include_colab_link": true
    },
    "kernelspec": {
      "name": "python3",
      "display_name": "Python 3"
    },
    "accelerator": "GPU"
  },
  "cells": [
    {
      "cell_type": "markdown",
      "metadata": {
        "id": "view-in-github",
        "colab_type": "text"
      },
      "source": [
        "<a href=\"https://colab.research.google.com/github/NavneetSajwan/CIFAR10-Classifier-with-Fast.ai/blob/master/CIFAR10_classifier_with_Fastai.ipynb\" target=\"_parent\"><img src=\"https://colab.research.google.com/assets/colab-badge.svg\" alt=\"Open In Colab\"/></a>"
      ]
    },
    {
      "cell_type": "markdown",
      "metadata": {
        "id": "5sn579eLQvdw",
        "colab_type": "text"
      },
      "source": [
        "# **Importing Resources**"
      ]
    },
    {
      "cell_type": "code",
      "metadata": {
        "id": "dfnexvDhYgKW",
        "colab_type": "code",
        "colab": {}
      },
      "source": [
        "from fastai import *\n",
        "from fastai.vision import *\n",
        "import os"
      ],
      "execution_count": 0,
      "outputs": []
    },
    {
      "cell_type": "markdown",
      "metadata": {
        "id": "0vA4vmXERT7S",
        "colab_type": "text"
      },
      "source": [
        "**Mounting the drive to save my trained models permanently on my google drive.**"
      ]
    },
    {
      "cell_type": "code",
      "metadata": {
        "id": "0aHLdcpL1KKq",
        "colab_type": "code",
        "colab": {
          "base_uri": "https://localhost:8080/",
          "height": 122
        },
        "outputId": "8d449145-b116-4149-acd3-368b9842d324"
      },
      "source": [
        "from google.colab import drive\n",
        "drive.mount('/content/drive')"
      ],
      "execution_count": 1,
      "outputs": [
        {
          "output_type": "stream",
          "text": [
            "Go to this URL in a browser: https://accounts.google.com/o/oauth2/auth?client_id=947318989803-6bn6qk8qdgf4n4g3pfee6491hc0brc4i.apps.googleusercontent.com&redirect_uri=urn%3aietf%3awg%3aoauth%3a2.0%3aoob&response_type=code&scope=email%20https%3a%2f%2fwww.googleapis.com%2fauth%2fdocs.test%20https%3a%2f%2fwww.googleapis.com%2fauth%2fdrive%20https%3a%2f%2fwww.googleapis.com%2fauth%2fdrive.photos.readonly%20https%3a%2f%2fwww.googleapis.com%2fauth%2fpeopleapi.readonly\n",
            "\n",
            "Enter your authorization code:\n",
            "··········\n",
            "Mounted at /content/drive\n"
          ],
          "name": "stdout"
        }
      ]
    },
    {
      "cell_type": "markdown",
      "metadata": {
        "id": "WXNKT2L2R4OJ",
        "colab_type": "text"
      },
      "source": [
        "**Creating folders in drive to save the models at various checkpoints**"
      ]
    },
    {
      "cell_type": "code",
      "metadata": {
        "id": "9Gzm_Mr81j7E",
        "colab_type": "code",
        "colab": {}
      },
      "source": [
        "# os.mkdir('/content/drive/My Drive/fastai-v3/data/CIFAR10')\n",
        "path_data = Path('/content/drive/My Drive/fastai-v3/data/CIFAR10')\n",
        "# os.mkdir('/content/drive/My Drive/fastai-v3/data/CIFAR10/models')\n",
        "path_model = path_data/'models'"
      ],
      "execution_count": 0,
      "outputs": []
    },
    {
      "cell_type": "markdown",
      "metadata": {
        "id": "AGKaRjHpSIrc",
        "colab_type": "text"
      },
      "source": [
        "**untar_data** function downloads the data and untars/unzips it. It returns the path where the data is being downloaded to."
      ]
    },
    {
      "cell_type": "code",
      "metadata": {
        "id": "1vHfkvYWYs35",
        "colab_type": "code",
        "colab": {}
      },
      "source": [
        "path = untar_data(URLs.CIFAR)"
      ],
      "execution_count": 0,
      "outputs": []
    },
    {
      "cell_type": "code",
      "metadata": {
        "id": "iB9yPOU6bIlD",
        "colab_type": "code",
        "outputId": "ca8c6d66-69cb-4b81-de2c-ceeb5757c899",
        "colab": {
          "base_uri": "https://localhost:8080/",
          "height": 85
        }
      },
      "source": [
        "path.ls() # returns the list of paths of all the items in the given path"
      ],
      "execution_count": 21,
      "outputs": [
        {
          "output_type": "execute_result",
          "data": {
            "text/plain": [
              "[PosixPath('/root/.fastai/data/cifar10/models'),\n",
              " PosixPath('/root/.fastai/data/cifar10/train'),\n",
              " PosixPath('/root/.fastai/data/cifar10/labels.txt'),\n",
              " PosixPath('/root/.fastai/data/cifar10/test')]"
            ]
          },
          "metadata": {
            "tags": []
          },
          "execution_count": 21
        }
      ]
    },
    {
      "cell_type": "markdown",
      "metadata": {
        "id": "cgFsGfBcTKDS",
        "colab_type": "text"
      },
      "source": [
        "# **Creating the Dataloaders**"
      ]
    },
    {
      "cell_type": "code",
      "metadata": {
        "id": "QuTyODNVbLqK",
        "colab_type": "code",
        "colab": {}
      },
      "source": [
        "np.random.seed(40)\n",
        "data = (ImageList.from_folder(path).\n",
        "        split_by_folder(train = 'train', valid = 'test').\n",
        "        label_from_folder().\n",
        "        transform(size = 128).\n",
        "        databunch(bs = 1024).\n",
        "        normalize(imagenet_stats))"
      ],
      "execution_count": 0,
      "outputs": []
    },
    {
      "cell_type": "markdown",
      "metadata": {
        "id": "W99EmlSXTXee",
        "colab_type": "text"
      },
      "source": [
        "The training data is a set of 50000 images and the validation data is a set of 10000 images. They are contained in the folders `train` and `test` respectively. So, we don't have to make the split manually instead they have been split beforehand. Hence, `split_by_folder(train = 'train', valid = 'test')`\n",
        "\n",
        "The images are stored in IMAGENET style. So, labels for the data are obtained from folder names itself. Hence, `label_from_folder`\n",
        "\n",
        "The sizes of images in the data are 32 by 32. But, since the ideal image size for the CNN architecture we use here(resnet34) is 224. So, we will be using higher size.\n",
        "\n",
        "The trick we use here is called **Progressive resizing**. We first train the model on images of **size 128 by 128**. We train on it for a few epochs. Then, we increase the image size and train a little more. This **decreases the number of training epochs**.\n",
        "\n",
        "We normalize the images using the imagenet stats."
      ]
    },
    {
      "cell_type": "code",
      "metadata": {
        "id": "6siyec2QdcHn",
        "colab_type": "code",
        "colab": {}
      },
      "source": [
        "data.show_batch(2)"
      ],
      "execution_count": 0,
      "outputs": []
    },
    {
      "cell_type": "markdown",
      "metadata": {
        "id": "t4dauZcOWlBg",
        "colab_type": "text"
      },
      "source": [
        "# **Creating and training the model**"
      ]
    },
    {
      "cell_type": "markdown",
      "metadata": {
        "id": "iBu9UAtLWivI",
        "colab_type": "text"
      },
      "source": [
        "We begin with a **resnet34** model pretrained on Imagenet data\n"
      ]
    },
    {
      "cell_type": "code",
      "metadata": {
        "id": "UGuocKDMdo50",
        "colab_type": "code",
        "colab": {
          "base_uri": "https://localhost:8080/",
          "height": 51
        },
        "outputId": "d0e1ef23-2929-42c5-b018-2ef7f197e4fe"
      },
      "source": [
        "arch = models.resnet34\n",
        "learn = cnn_learner(data, arch, metrics = accuracy)"
      ],
      "execution_count": 13,
      "outputs": [
        {
          "output_type": "stream",
          "text": [
            "Downloading: \"https://download.pytorch.org/models/resnet34-333f7ec4.pth\" to /root/.cache/torch/checkpoints/resnet34-333f7ec4.pth\n",
            "100%|██████████| 83.3M/83.3M [00:01<00:00, 48.0MB/s]\n"
          ],
          "name": "stderr"
        }
      ]
    },
    {
      "cell_type": "markdown",
      "metadata": {
        "id": "fZAPAo7mZRq2",
        "colab_type": "text"
      },
      "source": [
        "We freeze the model and find an optimum learning rate. By freezing,we mean, we don't calculate and update the gradients of initial layers but just the last layers."
      ]
    },
    {
      "cell_type": "code",
      "metadata": {
        "id": "2qG7OWC1hI7K",
        "colab_type": "code",
        "outputId": "6c6362d2-4e42-4f48-f67e-9750e4ded052",
        "colab": {
          "base_uri": "https://localhost:8080/",
          "height": 330
        }
      },
      "source": [
        "learn.freeze()\n",
        "learn.lr_find()\n",
        "learn.recorder.plot(suggestion = True)"
      ],
      "execution_count": 14,
      "outputs": [
        {
          "output_type": "display_data",
          "data": {
            "text/html": [
              ""
            ],
            "text/plain": [
              "<IPython.core.display.HTML object>"
            ]
          },
          "metadata": {
            "tags": []
          }
        },
        {
          "output_type": "stream",
          "text": [
            "LR Finder is complete, type {learner_name}.recorder.plot() to see the graph.\n",
            "Min numerical gradient: 3.02E-03\n",
            "Min loss divided by 10: 3.02E-02\n"
          ],
          "name": "stdout"
        },
        {
          "output_type": "display_data",
          "data": {
            "image/png": "[encoded data removed]",
            "text/plain": [
              "<Figure size 432x288 with 1 Axes>"
            ]
          },
          "metadata": {
            "tags": []
          }
        }
      ]
    },
    {
      "cell_type": "code",
      "metadata": {
        "id": "cIkX-zT8abGI",
        "colab_type": "code",
        "colab": {}
      },
      "source": [
        "learn.fit_one_cycle?"
      ],
      "execution_count": 0,
      "outputs": []
    },
    {
      "cell_type": "code",
      "metadata": {
        "id": "FAQylDOghcdV",
        "colab_type": "code",
        "outputId": "d75654a5-bc80-4e0d-a3c8-ed2f3793f164",
        "colab": {
          "base_uri": "https://localhost:8080/",
          "height": 235
        }
      },
      "source": [
        "lr = 3e-2\n",
        "\n",
        "# Training for 6 epochs\n",
        "learn.fit_one_cycle(6, slice(lr))"
      ],
      "execution_count": 15,
      "outputs": [
        {
          "output_type": "display_data",
          "data": {
            "text/html": [
              "<table border=\"1\" class=\"dataframe\">\n",
              "  <thead>\n",
              "    <tr style=\"text-align: left;\">\n",
              "      <th>epoch</th>\n",
              "      <th>train_loss</th>\n",
              "      <th>valid_loss</th>\n",
              "      <th>accuracy</th>\n",
              "      <th>time</th>\n",
              "    </tr>\n",
              "  </thead>\n",
              "  <tbody>\n",
              "    <tr>\n",
              "      <td>0</td>\n",
              "      <td>0.752114</td>\n",
              "      <td>0.369117</td>\n",
              "      <td>0.886500</td>\n",
              "      <td>01:21</td>\n",
              "    </tr>\n",
              "    <tr>\n",
              "      <td>1</td>\n",
              "      <td>0.415244</td>\n",
              "      <td>0.254875</td>\n",
              "      <td>0.921300</td>\n",
              "      <td>01:20</td>\n",
              "    </tr>\n",
              "    <tr>\n",
              "      <td>2</td>\n",
              "      <td>0.278356</td>\n",
              "      <td>0.221684</td>\n",
              "      <td>0.928000</td>\n",
              "      <td>01:20</td>\n",
              "    </tr>\n",
              "    <tr>\n",
              "      <td>3</td>\n",
              "      <td>0.197113</td>\n",
              "      <td>0.195232</td>\n",
              "      <td>0.937000</td>\n",
              "      <td>01:20</td>\n",
              "    </tr>\n",
              "    <tr>\n",
              "      <td>4</td>\n",
              "      <td>0.145976</td>\n",
              "      <td>0.195652</td>\n",
              "      <td>0.938700</td>\n",
              "      <td>01:20</td>\n",
              "    </tr>\n",
              "    <tr>\n",
              "      <td>5</td>\n",
              "      <td>0.113434</td>\n",
              "      <td>0.189483</td>\n",
              "      <td>0.940800</td>\n",
              "      <td>01:18</td>\n",
              "    </tr>\n",
              "  </tbody>\n",
              "</table>"
            ],
            "text/plain": [
              "<IPython.core.display.HTML object>"
            ]
          },
          "metadata": {
            "tags": []
          }
        }
      ]
    },
    {
      "cell_type": "code",
      "metadata": {
        "id": "EX8Sy-NTqliu",
        "colab_type": "code",
        "outputId": "e69af0e2-456f-46cc-b54e-06602bbd0fe7",
        "colab": {
          "base_uri": "https://localhost:8080/",
          "height": 283
        }
      },
      "source": [
        "learn.recorder.plot_losses()"
      ],
      "execution_count": 16,
      "outputs": [
        {
          "output_type": "display_data",
          "data": {
            "image/png": "[encoded data removed]",
            "text/plain": [
              "<Figure size 432x288 with 1 Axes>"
            ]
          },
          "metadata": {
            "tags": []
          }
        }
      ]
    },
    {
      "cell_type": "code",
      "metadata": {
        "id": "hqZNrVdVyuQF",
        "colab_type": "code",
        "colab": {}
      },
      "source": [
        "learn.save('stage-1-128-rn34')\n",
        "# learn.load('stage-1-128-rn34')"
      ],
      "execution_count": 0,
      "outputs": []
    },
    {
      "cell_type": "markdown",
      "metadata": {
        "id": "vqp2yWsPbPz4",
        "colab_type": "text"
      },
      "source": [
        "So, we get an accuracy of 94% in just 6 epochs using the images of size 128. Now, we will increase the size of images to 224. We will have to create a new databunch with new image size."
      ]
    },
    {
      "cell_type": "code",
      "metadata": {
        "id": "QPCs1iXP2EWi",
        "colab_type": "code",
        "colab": {}
      },
      "source": [
        "np.random.seed(40)\n",
        "data = (ImageList.from_folder(path).\n",
        "        split_by_folder(train = 'train', valid = 'test').\n",
        "        label_from_folder().\n",
        "        transform(size = 224).\n",
        "        databunch(bs = 128).\n",
        "        normalize(imagenet_stats))"
      ],
      "execution_count": 0,
      "outputs": []
    },
    {
      "cell_type": "markdown",
      "metadata": {
        "id": "XjESFlu0cF7i",
        "colab_type": "text"
      },
      "source": [
        "We now load our previously trained model that we saved in the drive."
      ]
    },
    {
      "cell_type": "code",
      "metadata": {
        "id": "-yz9yP8q3tze",
        "colab_type": "code",
        "colab": {}
      },
      "source": [
        "arch = models.resnet34\n",
        "learn =  cnn_learner(data, arch, metrics = accuracy).load('stage-1-128-rn34')"
      ],
      "execution_count": 0,
      "outputs": []
    },
    {
      "cell_type": "code",
      "metadata": {
        "id": "ZouLogOv4AxW",
        "colab_type": "code",
        "outputId": "85b96b1a-f033-433b-f104-05d5b955091a",
        "colab": {
          "base_uri": "https://localhost:8080/",
          "height": 330
        }
      },
      "source": [
        "learn.freeze()\n",
        "learn.lr_find()\n",
        "learn.recorder.plot(suggestion = True)"
      ],
      "execution_count": 8,
      "outputs": [
        {
          "output_type": "display_data",
          "data": {
            "text/html": [
              ""
            ],
            "text/plain": [
              "<IPython.core.display.HTML object>"
            ]
          },
          "metadata": {
            "tags": []
          }
        },
        {
          "output_type": "stream",
          "text": [
            "LR Finder is complete, type {learner_name}.recorder.plot() to see the graph.\n",
            "Min numerical gradient: 3.31E-06\n",
            "Min loss divided by 10: 3.31E-03\n"
          ],
          "name": "stdout"
        },
        {
          "output_type": "display_data",
          "data": {
            "image/png": "[encoded data removed]",
            "text/plain": [
              "<Figure size 432x288 with 1 Axes>"
            ]
          },
          "metadata": {
            "tags": []
          }
        }
      ]
    },
    {
      "cell_type": "code",
      "metadata": {
        "id": "E2xAQt--4FVY",
        "colab_type": "code",
        "outputId": "caca064a-0a28-4a99-8510-7cd936380d6c",
        "colab": {
          "base_uri": "https://localhost:8080/",
          "height": 235
        }
      },
      "source": [
        "lr = 3e-3\n",
        "\n",
        "#retraining the freezed model for 6 epochs\n",
        "learn.fit_one_cycle(6, lr) "
      ],
      "execution_count": 10,
      "outputs": [
        {
          "output_type": "display_data",
          "data": {
            "text/html": [
              "<table border=\"1\" class=\"dataframe\">\n",
              "  <thead>\n",
              "    <tr style=\"text-align: left;\">\n",
              "      <th>epoch</th>\n",
              "      <th>train_loss</th>\n",
              "      <th>valid_loss</th>\n",
              "      <th>accuracy</th>\n",
              "      <th>time</th>\n",
              "    </tr>\n",
              "  </thead>\n",
              "  <tbody>\n",
              "    <tr>\n",
              "      <td>0</td>\n",
              "      <td>0.185258</td>\n",
              "      <td>0.181038</td>\n",
              "      <td>0.935800</td>\n",
              "      <td>02:58</td>\n",
              "    </tr>\n",
              "    <tr>\n",
              "      <td>1</td>\n",
              "      <td>0.195536</td>\n",
              "      <td>0.205893</td>\n",
              "      <td>0.933800</td>\n",
              "      <td>02:58</td>\n",
              "    </tr>\n",
              "    <tr>\n",
              "      <td>2</td>\n",
              "      <td>0.172261</td>\n",
              "      <td>0.189198</td>\n",
              "      <td>0.936800</td>\n",
              "      <td>02:55</td>\n",
              "    </tr>\n",
              "    <tr>\n",
              "      <td>3</td>\n",
              "      <td>0.132557</td>\n",
              "      <td>0.145709</td>\n",
              "      <td>0.951000</td>\n",
              "      <td>02:53</td>\n",
              "    </tr>\n",
              "    <tr>\n",
              "      <td>4</td>\n",
              "      <td>0.092223</td>\n",
              "      <td>0.134024</td>\n",
              "      <td>0.953900</td>\n",
              "      <td>02:50</td>\n",
              "    </tr>\n",
              "    <tr>\n",
              "      <td>5</td>\n",
              "      <td>0.063494</td>\n",
              "      <td>0.135797</td>\n",
              "      <td>0.954400</td>\n",
              "      <td>02:48</td>\n",
              "    </tr>\n",
              "  </tbody>\n",
              "</table>"
            ],
            "text/plain": [
              "<IPython.core.display.HTML object>"
            ]
          },
          "metadata": {
            "tags": []
          }
        }
      ]
    },
    {
      "cell_type": "markdown",
      "metadata": {
        "id": "uvECqYIIg_Pm",
        "colab_type": "text"
      },
      "source": [
        "We have crossed the 95% accuracy mark in just 10 epochs. But, we retrain it further to see if we can get better accuracy."
      ]
    },
    {
      "cell_type": "code",
      "metadata": {
        "id": "O1U0lvh24iW2",
        "colab_type": "code",
        "colab": {}
      },
      "source": [
        "learn.save(path_model/'stage-1-224-rn34')\n",
        "# learn.load('stage-1-224-rn34')"
      ],
      "execution_count": 0,
      "outputs": []
    },
    {
      "cell_type": "markdown",
      "metadata": {
        "id": "QTF5IwN4hSou",
        "colab_type": "text"
      },
      "source": [
        "We unfreeze the entire model and find the optimum lr."
      ]
    },
    {
      "cell_type": "code",
      "metadata": {
        "id": "6ynatwsB8T-E",
        "colab_type": "code",
        "outputId": "81417cfd-3fed-41c1-8b12-185a8e6ca9dd",
        "colab": {
          "base_uri": "https://localhost:8080/",
          "height": 330
        }
      },
      "source": [
        "learn.unfreeze()\n",
        "learn.lr_find()\n",
        "learn.recorder.plot(suggestion = True)"
      ],
      "execution_count": 15,
      "outputs": [
        {
          "output_type": "display_data",
          "data": {
            "text/html": [
              ""
            ],
            "text/plain": [
              "<IPython.core.display.HTML object>"
            ]
          },
          "metadata": {
            "tags": []
          }
        },
        {
          "output_type": "stream",
          "text": [
            "LR Finder is complete, type {learner_name}.recorder.plot() to see the graph.\n",
            "Min numerical gradient: 6.31E-07\n",
            "Min loss divided by 10: 7.59E-08\n"
          ],
          "name": "stdout"
        },
        {
          "output_type": "display_data",
          "data": {
            "image/png": "[encoded data removed]",
            "text/plain": [
              "<Figure size 432x288 with 1 Axes>"
            ]
          },
          "metadata": {
            "tags": []
          }
        }
      ]
    },
    {
      "cell_type": "code",
      "metadata": {
        "id": "198gTsca8YmA",
        "colab_type": "code",
        "outputId": "5198c78a-45ec-4cd9-ca2f-526e88e68052",
        "colab": {
          "base_uri": "https://localhost:8080/",
          "height": 235
        }
      },
      "source": [
        "# we train the model for another 6 epochs\n",
        "learn.fit_one_cycle(6, slice(3e-6, 3e-5) )"
      ],
      "execution_count": 16,
      "outputs": [
        {
          "output_type": "display_data",
          "data": {
            "text/html": [
              "<table border=\"1\" class=\"dataframe\">\n",
              "  <thead>\n",
              "    <tr style=\"text-align: left;\">\n",
              "      <th>epoch</th>\n",
              "      <th>train_loss</th>\n",
              "      <th>valid_loss</th>\n",
              "      <th>accuracy</th>\n",
              "      <th>time</th>\n",
              "    </tr>\n",
              "  </thead>\n",
              "  <tbody>\n",
              "    <tr>\n",
              "      <td>0</td>\n",
              "      <td>0.061793</td>\n",
              "      <td>0.132241</td>\n",
              "      <td>0.955600</td>\n",
              "      <td>03:05</td>\n",
              "    </tr>\n",
              "    <tr>\n",
              "      <td>1</td>\n",
              "      <td>0.056816</td>\n",
              "      <td>0.136857</td>\n",
              "      <td>0.954700</td>\n",
              "      <td>03:02</td>\n",
              "    </tr>\n",
              "    <tr>\n",
              "      <td>2</td>\n",
              "      <td>0.034822</td>\n",
              "      <td>0.131571</td>\n",
              "      <td>0.958300</td>\n",
              "      <td>03:00</td>\n",
              "    </tr>\n",
              "    <tr>\n",
              "      <td>3</td>\n",
              "      <td>0.019292</td>\n",
              "      <td>0.132713</td>\n",
              "      <td>0.958500</td>\n",
              "      <td>02:59</td>\n",
              "    </tr>\n",
              "    <tr>\n",
              "      <td>4</td>\n",
              "      <td>0.014804</td>\n",
              "      <td>0.132161</td>\n",
              "      <td>0.959600</td>\n",
              "      <td>02:59</td>\n",
              "    </tr>\n",
              "    <tr>\n",
              "      <td>5</td>\n",
              "      <td>0.011756</td>\n",
              "      <td>0.133340</td>\n",
              "      <td>0.958200</td>\n",
              "      <td>02:58</td>\n",
              "    </tr>\n",
              "  </tbody>\n",
              "</table>"
            ],
            "text/plain": [
              "<IPython.core.display.HTML object>"
            ]
          },
          "metadata": {
            "tags": []
          }
        }
      ]
    },
    {
      "cell_type": "markdown",
      "metadata": {
        "id": "G7xchHYXhqHh",
        "colab_type": "text"
      },
      "source": [
        "Finally, we end the training process with **95.8 % accuracy in total 18 epochs**"
      ]
    },
    {
      "cell_type": "code",
      "metadata": {
        "id": "N_araDPq8yUz",
        "colab_type": "code",
        "colab": {}
      },
      "source": [
        "learn.save(path_model/'stage-2-224-rn34')\n",
        "# learn.load(path_model/'stage-2-224-rn34')"
      ],
      "execution_count": 0,
      "outputs": []
    },
    {
      "cell_type": "code",
      "metadata": {
        "id": "5fQsnhHuDLpO",
        "colab_type": "code",
        "colab": {
          "base_uri": "https://localhost:8080/",
          "height": 17
        },
        "outputId": "6c261770-e9a7-48ea-eda1-a07ce91408c3"
      },
      "source": [
        "interp = ClassificationInterpretation.from_learner(learn)"
      ],
      "execution_count": 19,
      "outputs": [
        {
          "output_type": "display_data",
          "data": {
            "text/html": [
              ""
            ],
            "text/plain": [
              "<IPython.core.display.HTML object>"
            ]
          },
          "metadata": {
            "tags": []
          }
        }
      ]
    },
    {
      "cell_type": "code",
      "metadata": {
        "id": "sfTqAtx2DZD3",
        "colab_type": "code",
        "outputId": "59173e9e-4cbb-4786-ff93-a8e864383de4",
        "colab": {
          "base_uri": "https://localhost:8080/",
          "height": 311
        }
      },
      "source": [
        "interp.plot_confusion_matrix()"
      ],
      "execution_count": 20,
      "outputs": [
        {
          "output_type": "display_data",
          "data": {
            "image/png": "[encoded data removed]",
            "text/plain": [
              "<Figure size 432x288 with 1 Axes>"
            ]
          },
          "metadata": {
            "tags": []
          }
        }
      ]
    }
  ]
}